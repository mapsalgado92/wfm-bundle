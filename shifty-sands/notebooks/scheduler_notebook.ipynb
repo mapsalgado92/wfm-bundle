{
 "cells": [
  {
   "cell_type": "code",
   "execution_count": 1,
   "metadata": {},
   "outputs": [],
   "source": [
    "import setup\n",
    "from src.entities import agents, availability, patterns, data_classes, shifts\n",
    "from src.entities.data_classes import Skill, Shift, Team, Agent\n",
    "import uuid"
   ]
  },
  {
   "cell_type": "code",
   "execution_count": 2,
   "metadata": {},
   "outputs": [],
   "source": [
    "chat_skill = Skill(\"chat-transfers\")\n",
    "phone_skill = Skill(\"phone-transfers\")\n",
    "\n",
    "shifts = [\n",
    "    Shift(\n",
    "        id=str(uuid.uuid4()),\n",
    "        start_time=8.0,\n",
    "        duration=9.0,\n",
    "        skill=chat_skill.code,\n",
    "    ),\n",
    "    Shift(\n",
    "        id=str(uuid.uuid4()),\n",
    "        start_time=14.0,\n",
    "        duration=9.0,\n",
    "        skill=chat_skill.code,\n",
    "    ),\n",
    "    Shift(\n",
    "        id=str(uuid.uuid4()),\n",
    "        start_time=23.0,\n",
    "        duration=9.0,\n",
    "        skill=chat_skill.code,\n",
    "    ),\n",
    "    Shift(\n",
    "        id=str(uuid.uuid4()),\n",
    "        start_time=9.0,\n",
    "        duration=9.0,\n",
    "        skill=chat_skill.code,\n",
    "    ),\n",
    "]\n",
    "\n",
    "team = Team(id=str(uuid.uuid4()))\n",
    "agents = [\n",
    "    Agent(\n",
    "        employee_id=str(uuid.uuid4()),\n",
    "        email=\"example1@rev.com\",\n",
    "        skills=[chat_skill.code],\n",
    "        team=team.id,\n",
    "    ),\n",
    "    Agent(\n",
    "        employee_id=str(uuid.uuid4()),\n",
    "        email=\"example2@rev.com\",\n",
    "        skills=[chat_skill.code, phone_skill.code],\n",
    "        team=team.id,\n",
    "    ),\n",
    "    Agent(\n",
    "        employee_id=str(uuid.uuid4()),\n",
    "        email=\"example3@rev.com\",\n",
    "        skills=[chat_skill.code, phone_skill.code],\n",
    "        team=team.id,\n",
    "    ),\n",
    "    Agent(\n",
    "        employee_id=str(uuid.uuid4()),\n",
    "        email=\"example4@rev.com\",\n",
    "        skills=[chat_skill.code, phone_skill.code],\n",
    "        team=team.id,\n",
    "    ),\n",
    "    Agent(\n",
    "        employee_id=str(uuid.uuid4()),\n",
    "        email=\"example5@rev.com\",\n",
    "        skills=[phone_skill.code],\n",
    "        team=team.id,\n",
    "    ),\n",
    "]"
   ]
  },
  {
   "cell_type": "code",
   "execution_count": 2,
   "metadata": {},
   "outputs": [
    {
     "ename": "TypeError",
     "evalue": "RequirementShift.__init__() got an unexpected keyword argument 'id'",
     "output_type": "error",
     "traceback": [
      "\u001b[1;31m---------------------------------------------------------------------------\u001b[0m",
      "\u001b[1;31mTypeError\u001b[0m                                 Traceback (most recent call last)",
      "Cell \u001b[1;32mIn[2], line 1\u001b[0m\n\u001b[1;32m----> 1\u001b[0m \u001b[43mshifts\u001b[49m\u001b[38;5;241;43m.\u001b[39;49m\u001b[43mRequirementShift\u001b[49m\u001b[43m(\u001b[49m\n\u001b[0;32m      2\u001b[0m \u001b[43m    \u001b[49m\u001b[38;5;28;43mid\u001b[39;49m\u001b[38;5;241;43m=\u001b[39;49m\u001b[38;5;124;43m\"\u001b[39;49m\u001b[38;5;124;43mA\u001b[39;49m\u001b[38;5;124;43m\"\u001b[39;49m\u001b[43m,\u001b[49m\u001b[43m \u001b[49m\u001b[43mstart_time\u001b[49m\u001b[38;5;241;43m=\u001b[39;49m\u001b[38;5;241;43m10\u001b[39;49m\u001b[43m,\u001b[49m\u001b[43m \u001b[49m\u001b[43mduration\u001b[49m\u001b[38;5;241;43m=\u001b[39;49m\u001b[38;5;241;43m9\u001b[39;49m\u001b[43m,\u001b[49m\u001b[43m \u001b[49m\u001b[43mskill\u001b[49m\u001b[38;5;241;43m=\u001b[39;49m\u001b[38;5;124;43m\"\u001b[39;49m\u001b[38;5;124;43mbasic\u001b[39;49m\u001b[38;5;124;43m\"\u001b[39;49m\u001b[43m,\u001b[49m\u001b[43m \u001b[49m\u001b[43mdaily_intervals\u001b[49m\u001b[38;5;241;43m=\u001b[39;49m\u001b[38;5;241;43m24\u001b[39;49m\n\u001b[0;32m      3\u001b[0m \u001b[43m)\u001b[49m\n",
      "\u001b[1;31mTypeError\u001b[0m: RequirementShift.__init__() got an unexpected keyword argument 'id'"
     ]
    }
   ],
   "source": [
    "shifts.RequirementShift(start_time=10, duration=9, skill=\"basic\", daily_intervals=24)"
   ]
  }
 ],
 "metadata": {
  "kernelspec": {
   "display_name": ".venv",
   "language": "python",
   "name": "python3"
  },
  "language_info": {
   "codemirror_mode": {
    "name": "ipython",
    "version": 3
   },
   "file_extension": ".py",
   "mimetype": "text/x-python",
   "name": "python",
   "nbconvert_exporter": "python",
   "pygments_lexer": "ipython3",
   "version": "3.12.4"
  }
 },
 "nbformat": 4,
 "nbformat_minor": 2
}
