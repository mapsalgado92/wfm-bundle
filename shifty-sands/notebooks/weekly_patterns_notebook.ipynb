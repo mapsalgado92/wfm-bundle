{
 "cells": [
  {
   "cell_type": "code",
   "execution_count": 69,
   "metadata": {},
   "outputs": [],
   "source": [
    "import notebook_setup\n",
    "\n",
    "import jax.numpy as jnp\n",
    "import pandas as pd\n",
    "\n",
    "from faker import Faker\n",
    "from src.entities.shifts import Shift\n",
    "from src.entities.agents import Agent"
   ]
  },
  {
   "cell_type": "code",
   "execution_count": 70,
   "metadata": {},
   "outputs": [],
   "source": [
    "# Data Setup\n",
    "\n",
    "faker = Faker()\n",
    "\n",
    "agent_emails = [faker.email() for _ in range(200)]\n",
    "\n",
    "skills = [\"chat_pt\", \"chat_es\", \"whatchmen\"]\n",
    "\n",
    "shifts = [\n",
    "    *[\n",
    "        Shift(\n",
    "            id=f\"{'chat_pt'}_{start}_({9.0})\",\n",
    "            skill=\"chat_pt\",\n",
    "            start_time=start,\n",
    "            duration=9,\n",
    "        )\n",
    "        for start in jnp.arange(0.0, 24.0, 1.0)\n",
    "    ],\n",
    "    *[\n",
    "        Shift(\n",
    "            id=f\"{'chat_es'}_{start}_({8.5})\",\n",
    "            skill=\"chat_es\",\n",
    "            start_time=start,\n",
    "            duration=8.5,\n",
    "        )\n",
    "        for start in jnp.arange(0, 24, 6)\n",
    "    ],\n",
    "    *[\n",
    "        Shift(\n",
    "            id=f\"{'whatchmen'}_{start}_({9.0})\",\n",
    "            skill=\"whatchmen\",\n",
    "            start_time=start,\n",
    "            duration=9,\n",
    "        )\n",
    "        for start in [8.0, 16.0]\n",
    "    ],\n",
    "]"
   ]
  },
  {
   "cell_type": "code",
   "execution_count": 67,
   "metadata": {},
   "outputs": [
    {
     "data": {
      "text/plain": [
       "datetime.date(2024, 8, 12)"
      ]
     },
     "execution_count": 67,
     "metadata": {},
     "output_type": "execute_result"
    }
   ],
   "source": []
  },
  {
   "cell_type": "code",
   "execution_count": 68,
   "metadata": {},
   "outputs": [
    {
     "data": {
      "text/plain": [
       "[Shift(id='chat_pt_0.0_(9.0)', start_time=Array(0., dtype=float32), duration=9, skill='chat_pt'),\n",
       " Shift(id='chat_pt_1.0_(9.0)', start_time=Array(1., dtype=float32), duration=9, skill='chat_pt'),\n",
       " Shift(id='chat_pt_2.0_(9.0)', start_time=Array(2., dtype=float32), duration=9, skill='chat_pt'),\n",
       " Shift(id='chat_pt_3.0_(9.0)', start_time=Array(3., dtype=float32), duration=9, skill='chat_pt'),\n",
       " Shift(id='chat_pt_4.0_(9.0)', start_time=Array(4., dtype=float32), duration=9, skill='chat_pt'),\n",
       " Shift(id='chat_pt_5.0_(9.0)', start_time=Array(5., dtype=float32), duration=9, skill='chat_pt'),\n",
       " Shift(id='chat_pt_6.0_(9.0)', start_time=Array(6., dtype=float32), duration=9, skill='chat_pt'),\n",
       " Shift(id='chat_pt_7.0_(9.0)', start_time=Array(7., dtype=float32), duration=9, skill='chat_pt'),\n",
       " Shift(id='chat_pt_8.0_(9.0)', start_time=Array(8., dtype=float32), duration=9, skill='chat_pt'),\n",
       " Shift(id='chat_pt_9.0_(9.0)', start_time=Array(9., dtype=float32), duration=9, skill='chat_pt'),\n",
       " Shift(id='chat_pt_10.0_(9.0)', start_time=Array(10., dtype=float32), duration=9, skill='chat_pt'),\n",
       " Shift(id='chat_pt_11.0_(9.0)', start_time=Array(11., dtype=float32), duration=9, skill='chat_pt'),\n",
       " Shift(id='chat_pt_12.0_(9.0)', start_time=Array(12., dtype=float32), duration=9, skill='chat_pt'),\n",
       " Shift(id='chat_pt_13.0_(9.0)', start_time=Array(13., dtype=float32), duration=9, skill='chat_pt'),\n",
       " Shift(id='chat_pt_14.0_(9.0)', start_time=Array(14., dtype=float32), duration=9, skill='chat_pt'),\n",
       " Shift(id='chat_pt_15.0_(9.0)', start_time=Array(15., dtype=float32), duration=9, skill='chat_pt'),\n",
       " Shift(id='chat_pt_16.0_(9.0)', start_time=Array(16., dtype=float32), duration=9, skill='chat_pt'),\n",
       " Shift(id='chat_pt_17.0_(9.0)', start_time=Array(17., dtype=float32), duration=9, skill='chat_pt'),\n",
       " Shift(id='chat_pt_18.0_(9.0)', start_time=Array(18., dtype=float32), duration=9, skill='chat_pt'),\n",
       " Shift(id='chat_pt_19.0_(9.0)', start_time=Array(19., dtype=float32), duration=9, skill='chat_pt'),\n",
       " Shift(id='chat_pt_20.0_(9.0)', start_time=Array(20., dtype=float32), duration=9, skill='chat_pt'),\n",
       " Shift(id='chat_pt_21.0_(9.0)', start_time=Array(21., dtype=float32), duration=9, skill='chat_pt'),\n",
       " Shift(id='chat_pt_22.0_(9.0)', start_time=Array(22., dtype=float32), duration=9, skill='chat_pt'),\n",
       " Shift(id='chat_pt_23.0_(9.0)', start_time=Array(23., dtype=float32), duration=9, skill='chat_pt'),\n",
       " Shift(id='chat_es_0_(8.5)', start_time=Array(0, dtype=int32), duration=8.5, skill='chat_es'),\n",
       " Shift(id='chat_es_6_(8.5)', start_time=Array(6, dtype=int32), duration=8.5, skill='chat_es'),\n",
       " Shift(id='chat_es_12_(8.5)', start_time=Array(12, dtype=int32), duration=8.5, skill='chat_es'),\n",
       " Shift(id='chat_es_18_(8.5)', start_time=Array(18, dtype=int32), duration=8.5, skill='chat_es'),\n",
       " Shift(id='whatchmen_8.0_(9.0)', start_time=8.0, duration=9, skill='whatchmen'),\n",
       " Shift(id='whatchmen_16.0_(9.0)', start_time=16.0, duration=9, skill='whatchmen')]"
      ]
     },
     "execution_count": 68,
     "metadata": {},
     "output_type": "execute_result"
    }
   ],
   "source": []
  },
  {
   "cell_type": "code",
   "execution_count": 71,
   "metadata": {},
   "outputs": [],
   "source": [
    "agent_emails\n",
    "\n",
    "\n",
    "schedules = {}\n",
    "\n",
    "availability = {}"
   ]
  },
  {
   "cell_type": "code",
   "execution_count": 74,
   "metadata": {},
   "outputs": [],
   "source": [
    "team1 = agent_emails[0:10]"
   ]
  },
  {
   "cell_type": "code",
   "execution_count": 75,
   "metadata": {},
   "outputs": [
    {
     "data": {
      "text/plain": [
       "['henrymichelle@example.net',\n",
       " 'cynthia45@example.org',\n",
       " 'tanyaallen@example.org',\n",
       " 'kimberlyrobinson@example.org',\n",
       " 'greenmartha@example.com',\n",
       " 'joseph61@example.com',\n",
       " 'fitzgeraldwilliam@example.net',\n",
       " 'ashleymcknight@example.net',\n",
       " 'grantheather@example.com',\n",
       " 'jill65@example.org']"
      ]
     },
     "execution_count": 75,
     "metadata": {},
     "output_type": "execute_result"
    }
   ],
   "source": [
    "team1"
   ]
  },
  {
   "cell_type": "code",
   "execution_count": null,
   "metadata": {},
   "outputs": [],
   "source": []
  }
 ],
 "metadata": {
  "kernelspec": {
   "display_name": ".venv",
   "language": "python",
   "name": "python3"
  },
  "language_info": {
   "codemirror_mode": {
    "name": "ipython",
    "version": 3
   },
   "file_extension": ".py",
   "mimetype": "text/x-python",
   "name": "python",
   "nbconvert_exporter": "python",
   "pygments_lexer": "ipython3",
   "version": "3.11.1"
  }
 },
 "nbformat": 4,
 "nbformat_minor": 2
}
